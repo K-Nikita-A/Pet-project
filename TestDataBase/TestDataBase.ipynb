{
 "cells": [
  {
   "cell_type": "code",
   "execution_count": 24,
   "metadata": {
    "collapsed": true
   },
   "outputs": [],
   "source": [
    "import sqlite3"
   ]
  },
  {
   "cell_type": "code",
   "execution_count": 25,
   "outputs": [],
   "source": [
    "insert_data = [\n",
    "    (1, \"2016-01-01 09:08:53\", \"Альфабанк\", 111),\n",
    "    (2, \"2016-01-02 15:09:34\", \"Альфабанк\", 112),\n",
    "    (3, \"2016-01-03 12:45:23\", \"ХоумКредит\", 113),\n",
    "    (4, \"2016-07-23 17:08:22\", \"Sber\", 111),\n",
    "    (5, \"2016-12-06 14:08:53\", \"ХоумКредит\", 112),\n",
    "    (6, \"2016-08-10 12:11:13\", \"Альфабанк\", 113),\n",
    "    (7, \"2016-11-31 15:01:23\", \"Тинькоф\", 114),\n",
    "    (8, \"2017-08-10 12:11:13\", \"Альфабанк\", 113),\n",
    "]"
   ],
   "metadata": {
    "collapsed": false,
    "pycharm": {
     "name": "#%%\n"
    }
   }
  },
  {
   "cell_type": "code",
   "execution_count": 27,
   "outputs": [
    {
     "name": "stdout",
     "output_type": "stream",
     "text": [
      "Table was created successfully\n"
     ]
    }
   ],
   "source": [
    "with sqlite3.connect('./database.db') as db:\n",
    "    cursor = db.cursor()\n",
    "    query_create = \"\"\"CREATE TABLE IF NOT EXISTS users (Applicat_ID INTEGER,\n",
    "                                                        Applicat_Date TEXT,\n",
    "                                                        Bank_Name TEXT,\n",
    "                                                        Passport_Number INTEGER)\"\"\"\n",
    "    query_add = \"\"\" INSERT INTO users(Applicat_ID,\n",
    "                                      Applicat_Date,\n",
    "                                      Bank_Name,\n",
    "                                      Passport_Number) VALUES(?,?,?,?) \"\"\"\n",
    "    cursor.execute(query_create)\n",
    "    cursor.executemany(query_add, insert_data)\n",
    "    db.commit()\n",
    "    print('Table was created successfully')"
   ],
   "metadata": {
    "collapsed": false,
    "pycharm": {
     "name": "#%%\n"
    }
   }
  },
  {
   "cell_type": "code",
   "execution_count": 28,
   "outputs": [
    {
     "name": "stdout",
     "output_type": "stream",
     "text": [
      "(112,)\n"
     ]
    }
   ],
   "source": [
    "with sqlite3.connect('./database.db') as db:\n",
    "    cursor = db.cursor()\n",
    "    query_get = \"\"\"\n",
    "    select distinct Passport_Number\n",
    "    from (\n",
    "        select Passport_Number,\n",
    "            lag(Bank) over(partition by Passport_Number) - Bank as diff\n",
    "        from(\n",
    "            select Passport_Number,\n",
    "                   Applicat_Date,\n",
    "            case when Bank_Name = 'Альфабанк' then 5\n",
    "                 when Bank_Name = 'ХоумКредит' then 2\n",
    "            else 0\n",
    "            end as Bank\n",
    "            from users\n",
    "            order by Passport_Number, Applicat_Date\n",
    "        )\n",
    "   )\n",
    "   where diff = 3\n",
    "   \"\"\"\n",
    "    cursor.execute(query_get)\n",
    "    for res in cursor:\n",
    "        print(res)\n",
    "    db.commit()"
   ],
   "metadata": {
    "collapsed": false,
    "pycharm": {
     "name": "#%%\n"
    }
   }
  },
  {
   "cell_type": "code",
   "execution_count": null,
   "outputs": [],
   "source": [],
   "metadata": {
    "collapsed": false,
    "pycharm": {
     "name": "#%%\n"
    }
   }
  }
 ],
 "metadata": {
  "kernelspec": {
   "name": "python3",
   "language": "python",
   "display_name": "Python 3 (ipykernel)"
  },
  "language_info": {
   "codemirror_mode": {
    "name": "ipython",
    "version": 2
   },
   "file_extension": ".py",
   "mimetype": "text/x-python",
   "name": "python",
   "nbconvert_exporter": "python",
   "pygments_lexer": "ipython2",
   "version": "2.7.6"
  }
 },
 "nbformat": 4,
 "nbformat_minor": 0
}