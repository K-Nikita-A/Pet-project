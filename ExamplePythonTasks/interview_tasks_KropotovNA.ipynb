{
 "cells": [
  {
   "cell_type": "code",
   "execution_count": 35,
   "metadata": {},
   "outputs": [],
   "source": [
    "import numpy as np\n",
    "import pandas as pd"
   ]
  },
  {
   "cell_type": "markdown",
   "metadata": {},
   "source": [
    "### Task 0"
   ]
  },
  {
   "cell_type": "markdown",
   "metadata": {},
   "source": [
    "- Написать функцию, которая принимает на вход произвольное число Iterable и \"спрямляет\" их в один Iterable (убирает вложенность итерируемых объектов)  \n",
    "Функция должна возвращать генератор\n",
    "\n",
    "f([a1,a2,..], [b1], [c1,c2,..],..) -> (a1, a2,...,b1,c1,c2,....)"
   ]
  },
  {
   "cell_type": "code",
   "execution_count": 36,
   "metadata": {},
   "outputs": [],
   "source": [
    "init_list = [['apple'], ['banana', 'mango']]\n",
    "post_processed_list = ['apple', 'banana', 'mango']"
   ]
  },
  {
   "cell_type": "code",
   "execution_count": 37,
   "metadata": {},
   "outputs": [
    {
     "data": {
      "text/plain": [
       "['apple', 'banana', 'mango']"
      ]
     },
     "execution_count": 37,
     "metadata": {},
     "output_type": "execute_result"
    }
   ],
   "source": [
    "def getRectifiableListGenerator(data):\n",
    "    yield [item for array in data for item in array]\n",
    "\n",
    "rectifiableListGenerator = getRectifiableListGenerator(init_list)\n",
    "next(rectifiableListGenerator)"
   ]
  },
  {
   "cell_type": "code",
   "execution_count": null,
   "metadata": {},
   "outputs": [],
   "source": []
  },
  {
   "cell_type": "markdown",
   "metadata": {},
   "source": [
    "- Написать функцию, которая принимает dict[key, Iterable] и \"спрямляет\" его в один Iterable кортежей (key, value)  \n",
    "Функция должна возвращать генератор \n",
    "\n",
    "{'a':[1], 'b':[2,3], 'c':[]} -> (('a',1), ('b',2), ('b',3))"
   ]
  },
  {
   "cell_type": "code",
   "execution_count": 38,
   "metadata": {},
   "outputs": [],
   "source": [
    "init_dict = {'a':[1], 'b':[2,3], 'c':[]}\n",
    "post_processed_sequence = [('a',1), ('b',2), ('b',3)]"
   ]
  },
  {
   "cell_type": "code",
   "execution_count": 39,
   "metadata": {},
   "outputs": [
    {
     "data": {
      "text/plain": [
       "[('a', 1), ('b', 2), ('b', 3)]"
      ]
     },
     "execution_count": 39,
     "metadata": {},
     "output_type": "execute_result"
    }
   ],
   "source": [
    "def getRectifiableTuplesGenerator(data):\n",
    "    yield [(key, value) for (key, array_values) in data.items() for value in array_values]\n",
    "\n",
    "rectifiableTuplesGenerator = getRectifiableTuplesGenerator(init_dict) \n",
    "\n",
    "next(rectifiableTuplesGenerator)"
   ]
  },
  {
   "cell_type": "code",
   "execution_count": null,
   "metadata": {},
   "outputs": [],
   "source": []
  },
  {
   "cell_type": "markdown",
   "metadata": {},
   "source": [
    "- Написать функцию `project`, которая принимает первым аргументом dict и вторым список ключей и делает срез словаря по данному списку \n",
    "Функция должна возвращать словарь (если список не предоставлен, возвращает словарь как есть)\n",
    "\n",
    "f({'a':[1], 'b':[2,3], 'c':[8]}, ['a', 'c']) -> {'a':[1], 'c':[8]}"
   ]
  },
  {
   "cell_type": "code",
   "execution_count": 40,
   "metadata": {},
   "outputs": [],
   "source": [
    "def project(*args):\n",
    "    result = {}\n",
    "    if (len(args) == 1 and isinstance(args[0], dict)):\n",
    "        return args[0]\n",
    "    if (len(args) == 2 and isinstance(args[0], dict) and isinstance(args[1], list)):       \n",
    "        for key in args[1]:\n",
    "            if (key in fruits.keys()):\n",
    "                result.update({key: args[0].get(key)})\n",
    "    return result"
   ]
  },
  {
   "cell_type": "code",
   "execution_count": 41,
   "metadata": {},
   "outputs": [
    {
     "data": {
      "text/plain": [
       "(True, True, True, True)"
      ]
     },
     "execution_count": 41,
     "metadata": {},
     "output_type": "execute_result"
    }
   ],
   "source": [
    "fruits = {'apple': 1, 'banana': 2}\n",
    "\n",
    "project(fruits, ['apple']) == {'apple': 1},\\\n",
    "project(fruits, []) == {},\\\n",
    "project(fruits) == {'apple': 1, 'banana': 2},\\\n",
    "project(fruits, ['mango']) == {}"
   ]
  },
  {
   "cell_type": "code",
   "execution_count": null,
   "metadata": {},
   "outputs": [],
   "source": []
  },
  {
   "cell_type": "markdown",
   "metadata": {},
   "source": [
    "- Написать декоратор, который подсчитывает время работы функции и выводит его в консоль после её выполнения"
   ]
  },
  {
   "cell_type": "code",
   "execution_count": 42,
   "metadata": {},
   "outputs": [],
   "source": [
    "import time\n",
    "    \n",
    "def timeDecorator(function):\n",
    "    def wrapper():\n",
    "        time_before = time.time()\n",
    "        function()\n",
    "        print('function worked: ', (time.time() - time_before))\n",
    "    return wrapper\n",
    "\n",
    "@timeDecorator\n",
    "def sleepy_func():\n",
    "    time.sleep(3)"
   ]
  },
  {
   "cell_type": "code",
   "execution_count": 43,
   "metadata": {},
   "outputs": [
    {
     "name": "stdout",
     "output_type": "stream",
     "text": [
      "function worked:  3.0000741481781006\n"
     ]
    }
   ],
   "source": [
    "sleepy_func()"
   ]
  },
  {
   "cell_type": "code",
   "execution_count": null,
   "metadata": {},
   "outputs": [],
   "source": []
  },
  {
   "cell_type": "markdown",
   "metadata": {},
   "source": [
    "### Task 1"
   ]
  },
  {
   "cell_type": "markdown",
   "metadata": {},
   "source": [
    "Написать функцию, которая принимает на вход список строк и делает следующее преобразование:\n",
    "\n",
    "\n",
    "Для строк на нечётных позициях в списке удаляет любые символы кроме цифр,\n",
    "для строк на чётных позициях оставляет всё, кроме цифр"
   ]
  },
  {
   "cell_type": "code",
   "execution_count": 44,
   "metadata": {},
   "outputs": [],
   "source": [
    "init_list = ['abc123', '456def', 'x7y9z8','__0(())_0_']\n",
    "post_processed_list = ['123', 'def', '798','__(())__']"
   ]
  },
  {
   "cell_type": "markdown",
   "metadata": {},
   "source": [
    "Убедиться, что на приведённом примере функция работает корректно"
   ]
  },
  {
   "cell_type": "code",
   "execution_count": 45,
   "metadata": {},
   "outputs": [
    {
     "data": {
      "text/plain": [
       "['123', 'def', '798', '__(())__']"
      ]
     },
     "execution_count": 45,
     "metadata": {},
     "output_type": "execute_result"
    }
   ],
   "source": [
    "# Решение\n",
    "\n",
    "def getTransformData(list):\n",
    "    result = []\n",
    "    index = 1\n",
    "\n",
    "    for item in list:\n",
    "        new_item = ''\n",
    "        if (index%2!=0):\n",
    "            for sym in item:\n",
    "                if (sym >= '0' and sym <= '9'):\n",
    "                    new_item = new_item + sym\n",
    "        else:  \n",
    "            for sym in item:\n",
    "                if (sym < '0' or sym > '9'):\n",
    "                    new_item = new_item + sym\n",
    "        result.append(new_item)\n",
    "        index = index + 1 \n",
    "    return result\n",
    "\n",
    "proc_list = getTransformData(init_list)\n",
    "proc_list"
   ]
  },
  {
   "cell_type": "code",
   "execution_count": null,
   "metadata": {},
   "outputs": [],
   "source": []
  },
  {
   "cell_type": "markdown",
   "metadata": {},
   "source": [
    "### Task 2\n"
   ]
  },
  {
   "cell_type": "markdown",
   "metadata": {},
   "source": [
    "Даны 2 бинарных датафрейма, в которых представлены истинные и прогнозные лейблы соответственно для задачи Multilabel-классификации"
   ]
  },
  {
   "cell_type": "markdown",
   "metadata": {},
   "source": [
    "По строкам - наблюдения (4), по столбцам - классы (3)"
   ]
  },
  {
   "cell_type": "code",
   "execution_count": 46,
   "metadata": {},
   "outputs": [
    {
     "data": {
      "text/plain": [
       "array([[1, 1, 0],\n",
       "       [1, 0, 0],\n",
       "       [0, 0, 0],\n",
       "       [0, 1, 1]])"
      ]
     },
     "metadata": {},
     "output_type": "display_data"
    },
    {
     "data": {
      "text/plain": [
       "array([[0, 1, 0],\n",
       "       [1, 0, 1],\n",
       "       [0, 0, 1],\n",
       "       [1, 0, 1]])"
      ]
     },
     "metadata": {},
     "output_type": "display_data"
    }
   ],
   "source": [
    "df_fact = np.array([[1,1,0],[1,0,0],[0,0,0],[0,1,1]])\n",
    "df_pred = np.array([[0,1,0],[1,0,1],[0,0,1],[1,0,1]])\n",
    "\n",
    "display(df_fact)\n",
    "display(df_pred)"
   ]
  },
  {
   "cell_type": "markdown",
   "metadata": {},
   "source": [
    "Написать блок кода, который будет рассчитывать Macro-recall для такого представления данных и прогноза\n",
    "\n",
    "Вычислить значение на данном примере"
   ]
  },
  {
   "cell_type": "code",
   "execution_count": 47,
   "metadata": {},
   "outputs": [
    {
     "data": {
      "text/plain": [
       "0.6666666666666666"
      ]
     },
     "execution_count": 47,
     "metadata": {},
     "output_type": "execute_result"
    }
   ],
   "source": [
    "# Решение\n",
    "\n",
    "def getMacroRecall(df_fact, df_pred):\n",
    "    if (np.shape(df_fact) != np.shape(df_pred)):\n",
    "        return 'Invalid data'\n",
    "    \n",
    "    recall_values = []\n",
    "    count_classes = np.shape(df_fact)[1]\n",
    "    count_observations = np.shape(df_fact)[0]\n",
    "\n",
    "    for i in range(count_classes):\n",
    "        tp = 0\n",
    "        fn = 0 \n",
    "        for j in range(count_observations):\n",
    "            if (df_pred[j][i] == 1 and df_fact[j][i] == 1):\n",
    "                tp = tp + 1\n",
    "            else: \n",
    "                if (df_pred[j][i] == 0 and df_fact[j][i] == 1):\n",
    "                    fn = fn + 1\n",
    "        recall_values.append(tp/(tp+fn))\n",
    "    return sum(recall_values)/len(recall_values)  \n",
    "\n",
    "getMacroRecall(df_fact, df_pred)"
   ]
  },
  {
   "cell_type": "markdown",
   "metadata": {},
   "source": [
    "Сравнить с реализацией в sklearn"
   ]
  },
  {
   "cell_type": "code",
   "execution_count": 48,
   "metadata": {},
   "outputs": [
    {
     "data": {
      "text/plain": [
       "0.6666666666666666"
      ]
     },
     "execution_count": 48,
     "metadata": {},
     "output_type": "execute_result"
    }
   ],
   "source": [
    "# Решение\n",
    "\n",
    "from sklearn.metrics import recall_score\n",
    "recall_score(df_fact, df_pred, average='macro')"
   ]
  },
  {
   "cell_type": "code",
   "execution_count": 49,
   "metadata": {},
   "outputs": [],
   "source": [
    "# Вывод: значения совпадают"
   ]
  },
  {
   "cell_type": "code",
   "execution_count": null,
   "metadata": {},
   "outputs": [],
   "source": []
  },
  {
   "cell_type": "markdown",
   "metadata": {},
   "source": [
    "###  Task 3"
   ]
  },
  {
   "cell_type": "markdown",
   "metadata": {},
   "source": [
    "Заданы 2 датафрейма\n",
    "\n",
    "df_sales (продажи товаров пользователям), описывается полями [user_id,month,item_id,amount]\n",
    "\n",
    "df_features (фичи по пользователям), описывается полями [user_id,month,feature]"
   ]
  },
  {
   "cell_type": "code",
   "execution_count": 50,
   "metadata": {},
   "outputs": [
    {
     "data": {
      "text/html": [
       "<div>\n",
       "<style scoped>\n",
       "    .dataframe tbody tr th:only-of-type {\n",
       "        vertical-align: middle;\n",
       "    }\n",
       "\n",
       "    .dataframe tbody tr th {\n",
       "        vertical-align: top;\n",
       "    }\n",
       "\n",
       "    .dataframe thead th {\n",
       "        text-align: right;\n",
       "    }\n",
       "</style>\n",
       "<table border=\"1\" class=\"dataframe\">\n",
       "  <thead>\n",
       "    <tr style=\"text-align: right;\">\n",
       "      <th></th>\n",
       "      <th>user_id</th>\n",
       "      <th>month</th>\n",
       "      <th>item_id</th>\n",
       "      <th>amount</th>\n",
       "    </tr>\n",
       "  </thead>\n",
       "  <tbody>\n",
       "    <tr>\n",
       "      <th>52</th>\n",
       "      <td>user_4838</td>\n",
       "      <td>21</td>\n",
       "      <td>d</td>\n",
       "      <td>3</td>\n",
       "    </tr>\n",
       "    <tr>\n",
       "      <th>410</th>\n",
       "      <td>user_8027</td>\n",
       "      <td>12</td>\n",
       "      <td>c</td>\n",
       "      <td>1</td>\n",
       "    </tr>\n",
       "    <tr>\n",
       "      <th>450</th>\n",
       "      <td>user_8850</td>\n",
       "      <td>20</td>\n",
       "      <td>e</td>\n",
       "      <td>3</td>\n",
       "    </tr>\n",
       "    <tr>\n",
       "      <th>89</th>\n",
       "      <td>user_2764</td>\n",
       "      <td>18</td>\n",
       "      <td>f</td>\n",
       "      <td>1</td>\n",
       "    </tr>\n",
       "    <tr>\n",
       "      <th>279</th>\n",
       "      <td>user_5509</td>\n",
       "      <td>17</td>\n",
       "      <td>f</td>\n",
       "      <td>2</td>\n",
       "    </tr>\n",
       "  </tbody>\n",
       "</table>\n",
       "</div>"
      ],
      "text/plain": [
       "       user_id  month item_id  amount\n",
       "52   user_4838     21       d       3\n",
       "410  user_8027     12       c       1\n",
       "450  user_8850     20       e       3\n",
       "89   user_2764     18       f       1\n",
       "279  user_5509     17       f       2"
      ]
     },
     "metadata": {},
     "output_type": "display_data"
    },
    {
     "data": {
      "text/html": [
       "<div>\n",
       "<style scoped>\n",
       "    .dataframe tbody tr th:only-of-type {\n",
       "        vertical-align: middle;\n",
       "    }\n",
       "\n",
       "    .dataframe tbody tr th {\n",
       "        vertical-align: top;\n",
       "    }\n",
       "\n",
       "    .dataframe thead th {\n",
       "        text-align: right;\n",
       "    }\n",
       "</style>\n",
       "<table border=\"1\" class=\"dataframe\">\n",
       "  <thead>\n",
       "    <tr style=\"text-align: right;\">\n",
       "      <th></th>\n",
       "      <th>user_id</th>\n",
       "      <th>month</th>\n",
       "      <th>feature</th>\n",
       "    </tr>\n",
       "  </thead>\n",
       "  <tbody>\n",
       "    <tr>\n",
       "      <th>64725</th>\n",
       "      <td>user_4725</td>\n",
       "      <td>6</td>\n",
       "      <td>1.826208</td>\n",
       "    </tr>\n",
       "    <tr>\n",
       "      <th>98605</th>\n",
       "      <td>user_8605</td>\n",
       "      <td>9</td>\n",
       "      <td>0.608446</td>\n",
       "    </tr>\n",
       "    <tr>\n",
       "      <th>170830</th>\n",
       "      <td>user_830</td>\n",
       "      <td>17</td>\n",
       "      <td>-2.237801</td>\n",
       "    </tr>\n",
       "    <tr>\n",
       "      <th>149206</th>\n",
       "      <td>user_9206</td>\n",
       "      <td>14</td>\n",
       "      <td>1.399612</td>\n",
       "    </tr>\n",
       "    <tr>\n",
       "      <th>151054</th>\n",
       "      <td>user_1054</td>\n",
       "      <td>15</td>\n",
       "      <td>1.757493</td>\n",
       "    </tr>\n",
       "  </tbody>\n",
       "</table>\n",
       "</div>"
      ],
      "text/plain": [
       "          user_id  month   feature\n",
       "64725   user_4725      6  1.826208\n",
       "98605   user_8605      9  0.608446\n",
       "170830   user_830     17 -2.237801\n",
       "149206  user_9206     14  1.399612\n",
       "151054  user_1054     15  1.757493"
      ]
     },
     "metadata": {},
     "output_type": "display_data"
    }
   ],
   "source": [
    "Lu, Lt = 10000, 24\n",
    "\n",
    "product_line = list('abcdef')\n",
    "timeline = [i+1 for i in range(Lt)]\n",
    "users = ['user_' + str(i) for i in range(Lu)]\n",
    "\n",
    "df_hist_size = 1000\n",
    "\n",
    "np.random.seed(8)\n",
    "df_sales = pd.DataFrame({'user_id':np.random.choice(users, size = df_hist_size, replace = True),\n",
    "                        'month':np.random.choice(timeline, size = df_hist_size, replace = True),\n",
    "                        'item_id':np.random.choice(product_line, size = df_hist_size, replace = True),\n",
    "                        'amount':np.random.choice([1,2,3], size = df_hist_size, replace = True)\n",
    "                       })\n",
    "\n",
    "df_features = pd.DataFrame({k:v.flatten() for k,v in zip(['user_id', 'month'],\n",
    "                                                         np.meshgrid(users, [t-1 for t in timeline]))})\n",
    "df_features['feature'] = np.random.normal(size = Lu*Lt)\n",
    "\n",
    "display(df_sales.sample(5))\n",
    "display(df_features.sample(5))"
   ]
  },
  {
   "cell_type": "markdown",
   "metadata": {},
   "source": [
    "Найти такие 2 товара, которых было продано меньше остальных за последние два месяца."
   ]
  },
  {
   "cell_type": "code",
   "execution_count": 51,
   "metadata": {},
   "outputs": [
    {
     "data": {
      "text/plain": [
       "['b', 'e']"
      ]
     },
     "execution_count": 51,
     "metadata": {},
     "output_type": "execute_result"
    }
   ],
   "source": [
    "# Последние два месяца = 23 и 24 месяца\n",
    "\n",
    "worstGoods = df_sales\\\n",
    "    .loc[df_sales['month'] > 22]\\\n",
    "    .groupby('item_id')['amount']\\\n",
    "    .sum().sort_values().index\\\n",
    "    .to_list()[0:2]\n",
    "\n",
    "worstGoods"
   ]
  },
  {
   "cell_type": "markdown",
   "metadata": {},
   "source": [
    "Найти тех пользователей, которые когда-либо покупали один из этих товаров в любом количестве, и для каждого факта покупки в некоторый месяц подтянуть фичу пользователя за предыдущий месяц.\n",
    "\n",
    "Сохранить минимальную структуру [user_id item_id feature]"
   ]
  },
  {
   "cell_type": "code",
   "execution_count": 52,
   "metadata": {},
   "outputs": [
    {
     "data": {
      "text/html": [
       "<div>\n",
       "<style scoped>\n",
       "    .dataframe tbody tr th:only-of-type {\n",
       "        vertical-align: middle;\n",
       "    }\n",
       "\n",
       "    .dataframe tbody tr th {\n",
       "        vertical-align: top;\n",
       "    }\n",
       "\n",
       "    .dataframe thead th {\n",
       "        text-align: right;\n",
       "    }\n",
       "</style>\n",
       "<table border=\"1\" class=\"dataframe\">\n",
       "  <thead>\n",
       "    <tr style=\"text-align: right;\">\n",
       "      <th></th>\n",
       "      <th>item_id</th>\n",
       "      <th>user_id</th>\n",
       "      <th>feature</th>\n",
       "    </tr>\n",
       "  </thead>\n",
       "  <tbody>\n",
       "    <tr>\n",
       "      <th>0</th>\n",
       "      <td>b</td>\n",
       "      <td>user_8812</td>\n",
       "      <td>0.912850</td>\n",
       "    </tr>\n",
       "    <tr>\n",
       "      <th>1</th>\n",
       "      <td>e</td>\n",
       "      <td>user_6025</td>\n",
       "      <td>0.620635</td>\n",
       "    </tr>\n",
       "    <tr>\n",
       "      <th>2</th>\n",
       "      <td>b</td>\n",
       "      <td>user_9277</td>\n",
       "      <td>-0.363418</td>\n",
       "    </tr>\n",
       "    <tr>\n",
       "      <th>3</th>\n",
       "      <td>e</td>\n",
       "      <td>user_6287</td>\n",
       "      <td>0.563285</td>\n",
       "    </tr>\n",
       "    <tr>\n",
       "      <th>4</th>\n",
       "      <td>b</td>\n",
       "      <td>user_5469</td>\n",
       "      <td>-0.186931</td>\n",
       "    </tr>\n",
       "    <tr>\n",
       "      <th>...</th>\n",
       "      <td>...</td>\n",
       "      <td>...</td>\n",
       "      <td>...</td>\n",
       "    </tr>\n",
       "    <tr>\n",
       "      <th>313</th>\n",
       "      <td>b</td>\n",
       "      <td>user_4728</td>\n",
       "      <td>-1.659606</td>\n",
       "    </tr>\n",
       "    <tr>\n",
       "      <th>314</th>\n",
       "      <td>e</td>\n",
       "      <td>user_5172</td>\n",
       "      <td>1.625212</td>\n",
       "    </tr>\n",
       "    <tr>\n",
       "      <th>315</th>\n",
       "      <td>e</td>\n",
       "      <td>user_9268</td>\n",
       "      <td>-0.391100</td>\n",
       "    </tr>\n",
       "    <tr>\n",
       "      <th>316</th>\n",
       "      <td>b</td>\n",
       "      <td>user_1314</td>\n",
       "      <td>-0.310380</td>\n",
       "    </tr>\n",
       "    <tr>\n",
       "      <th>317</th>\n",
       "      <td>b</td>\n",
       "      <td>user_1532</td>\n",
       "      <td>-0.806761</td>\n",
       "    </tr>\n",
       "  </tbody>\n",
       "</table>\n",
       "<p>318 rows × 3 columns</p>\n",
       "</div>"
      ],
      "text/plain": [
       "    item_id    user_id   feature\n",
       "0         b  user_8812  0.912850\n",
       "1         e  user_6025  0.620635\n",
       "2         b  user_9277 -0.363418\n",
       "3         e  user_6287  0.563285\n",
       "4         b  user_5469 -0.186931\n",
       "..      ...        ...       ...\n",
       "313       b  user_4728 -1.659606\n",
       "314       e  user_5172  1.625212\n",
       "315       e  user_9268 -0.391100\n",
       "316       b  user_1314 -0.310380\n",
       "317       b  user_1532 -0.806761\n",
       "\n",
       "[318 rows x 3 columns]"
      ]
     },
     "execution_count": 52,
     "metadata": {},
     "output_type": "execute_result"
    }
   ],
   "source": [
    "df_sales_new = df_sales\n",
    "df_sales_new['month'] = df_sales['month'].apply(lambda x: x-1)\n",
    "\n",
    "\n",
    "result = pd.merge(\n",
    "            df_sales_new.loc[(df_sales_new['item_id'] == worstGoods[0]) | (df_sales_new['item_id'] == worstGoods[1])], \n",
    "            df_features,\n",
    "            how='inner', on=['user_id', 'month'])\n",
    "result[{'user_id', 'item_id', 'feature'}]"
   ]
  },
  {
   "cell_type": "code",
   "execution_count": null,
   "metadata": {},
   "outputs": [],
   "source": []
  },
  {
   "cell_type": "markdown",
   "metadata": {},
   "source": [
    "Выяснить, существуют ли пользователи, которые покупали и тот и другой товар хотя бы раз за всё время"
   ]
  },
  {
   "cell_type": "code",
   "execution_count": 53,
   "metadata": {},
   "outputs": [
    {
     "data": {
      "text/plain": [
       "True"
      ]
     },
     "execution_count": 53,
     "metadata": {},
     "output_type": "execute_result"
    }
   ],
   "source": [
    "len(pd.merge(\n",
    "        df_sales.loc[df_sales['item_id'] == worstGoods[0]], \n",
    "        df_sales.loc[df_sales['item_id'] == worstGoods[1]], \n",
    "        how='inner', on=['user_id'])) != 0"
   ]
  },
  {
   "cell_type": "code",
   "execution_count": null,
   "metadata": {},
   "outputs": [],
   "source": []
  },
  {
   "cell_type": "markdown",
   "metadata": {},
   "source": [
    "Выяснить, существует ли статистически значимая разница между распределениями фичами пользователей, которые покупают первый или второй товар"
   ]
  },
  {
   "cell_type": "code",
   "execution_count": 54,
   "metadata": {},
   "outputs": [],
   "source": [
    "# Установлю уровень значимости в размере 5%\n",
    "\n",
    "import scipy as sc\n",
    "\n",
    "features_buyers_goods_b = pd.merge(\n",
    "            df_sales.loc[(df_sales_new['item_id'] == worstGoods[0])], \n",
    "            df_features,\n",
    "            how='inner', on=['user_id', 'month'])['feature']\n",
    "\n",
    "features_buyers_goods_e = pd.merge(\n",
    "            df_sales.loc[(df_sales_new['item_id'] == worstGoods[1])], \n",
    "            df_features,\n",
    "            how='inner', on=['user_id', 'month'])['feature']"
   ]
  },
  {
   "cell_type": "code",
   "execution_count": 55,
   "metadata": {},
   "outputs": [],
   "source": [
    "def getStandardError(sample_one, sample_two):\n",
    "    var_one = sample_one.std()**2\n",
    "    var_two = sample_two.std()**2\n",
    "    return np.sqrt(var_one/len(sample_one) + var_two/len(sample_two))"
   ]
  },
  {
   "cell_type": "code",
   "execution_count": 56,
   "metadata": {},
   "outputs": [],
   "source": [
    "def getZetStatistic(sample_one, sample_two): \n",
    "    return (sample_one.mean() - sample_two.mean())/getStandardError(sample_one, sample_two)"
   ]
  },
  {
   "cell_type": "code",
   "execution_count": 57,
   "metadata": {},
   "outputs": [],
   "source": [
    "def getValueP(sample_one, sample_two): \n",
    "    return sc.stats.norm.cdf([ getZetStatistic(sample_one, sample_two) ])"
   ]
  },
  {
   "cell_type": "code",
   "execution_count": 58,
   "metadata": {},
   "outputs": [
    {
     "name": "stdout",
     "output_type": "stream",
     "text": [
      "p-значение:   [0.85835377]\n"
     ]
    }
   ],
   "source": [
    "print('p-значение:  ', getValueP(features_buyers_goods_b, features_buyers_goods_e))"
   ]
  },
  {
   "cell_type": "code",
   "execution_count": 59,
   "metadata": {},
   "outputs": [],
   "source": [
    "# Вывод: статистически значимой разницы нет."
   ]
  },
  {
   "cell_type": "code",
   "execution_count": null,
   "metadata": {},
   "outputs": [],
   "source": []
  }
 ],
 "metadata": {
  "kernelspec": {
   "display_name": "Python 3 (ipykernel)",
   "language": "python",
   "name": "python3"
  },
  "language_info": {
   "codemirror_mode": {
    "name": "ipython",
    "version": 3
   },
   "file_extension": ".py",
   "mimetype": "text/x-python",
   "name": "python",
   "nbconvert_exporter": "python",
   "pygments_lexer": "ipython3",
   "version": "3.9.7"
  }
 },
 "nbformat": 4,
 "nbformat_minor": 4
}
